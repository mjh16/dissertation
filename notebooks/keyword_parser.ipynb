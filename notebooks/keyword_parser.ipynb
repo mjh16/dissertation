{
 "cells": [
  {
   "cell_type": "markdown",
   "metadata": {},
   "source": [
    "# Keyterms Parser and Explorer\n",
    "This program opens the combined meta-data and textual data files for the corups, uses the keyterms file to search the dataset for instances of those words, and then saves the word-document name to a new CSV file that lists each keyterm and the article names."
   ]
  },
  {
   "cell_type": "code",
   "execution_count": null,
   "metadata": {},
   "outputs": [],
   "source": [
    "import json\n",
    "import os\n",
    "from pathlib import Path\n",
    "import csv\n",
    "from extract import json_extract"
   ]
  },
  {
   "cell_type": "code",
   "execution_count": null,
   "metadata": {
    "tags": []
   },
   "outputs": [],
   "source": [
    "# Setup working folder and initialize list variables\n",
    "working_folder = Path.home() / (\"syncthing/Dissertation/dissertation_data/dissertation_data_working_folder\")\n",
    "data_folder = Path.home() / (\"syncthing/Dissertation/dissertation_data/dissertation_data_working_folder/text_meta_json_combined/\")\n",
    "\n",
    "# Read json file of keyterms and save to new python list\n",
    "with open (working_folder / \"keyterms.json\", 'r') as f:\n",
    "    json_terms = json.load(f)\n",
    "    keyterms_list = json_terms['keyterms']\n",
    "\n",
    "# check that json loaded correctly\n",
    "print(keyterms_list)\n",
    "\n",
    "# Setup list with json file names\n",
    "all_json_files = []\n",
    "\n",
    "# Read each file in the data folder and write its name and filepath to list\n",
    "for file in data_folder.glob(\"*.json\"):\n",
    "    all_json_files.append(file.parent / file.name)\n",
    "\n",
    "# Check that file list works\n",
    "print(all_json_files[5])"
   ]
  },
  {
   "cell_type": "code",
   "execution_count": null,
   "metadata": {
    "tags": [
     "outputPrepend"
    ]
   },
   "outputs": [],
   "source": [
    "for keyterm in keyterms_list:\n",
    "    with open(working_folder / str(keyterm + \".csv\"), 'w+', encoding='utf-8') as csvfile:\n",
    "        csv_columns = ['title', 'file']\n",
    "        writer = csv.DictWriter(csvfile, fieldnames=csv_columns)\n",
    "        writer.writeheader()\n",
    "    for file in all_json_files:\n",
    "        with open(file, 'r') as f:\n",
    "            working_file = json.load(f, strict=False)\n",
    "            if working_file.get('text') is not None:\n",
    "                text = working_file['text']\n",
    "            else:\n",
    "                continue\n",
    "            match = text.find(keyterm)\n",
    "            if match > 0:\n",
    "                if 'title' in working_file:\n",
    "                    title = working_file['title']\n",
    "                elif json_extract(working_file, 'article-title'):\n",
    "                    title = json_extract(working_file, 'article-title')\n",
    "                else:\n",
    "                    title = \"No Title\"\n",
    "                article_data = {\"title\": title, \"file\": str(file)}\n",
    "                with open(working_folder / str(keyterm + \".csv\"), 'a', encoding='utf-8', newline='') as output:\n",
    "                    writer = csv.DictWriter(output, fieldnames=csv_columns)\n",
    "                    writer.writerow(article_data)"
   ]
  }
 ],
 "metadata": {
  "kernelspec": {
   "display_name": "Python 3",
   "language": "python",
   "name": "python3"
  },
  "language_info": {
   "codemirror_mode": {
    "name": "ipython",
    "version": 3
   },
   "file_extension": ".py",
   "mimetype": "text/x-python",
   "name": "python",
   "nbconvert_exporter": "python",
   "pygments_lexer": "ipython3",
   "version": "3.8.2"
  }
 },
 "nbformat": 4,
 "nbformat_minor": 2
}
